{
 "cells": [
  {
   "cell_type": "code",
   "execution_count": 86,
   "metadata": {},
   "outputs": [],
   "source": [
    "import os\n",
    "from dotenv import  load_dotenv\n",
    "from openai  import OpenAI\n",
    "import anthropic\n",
    "from IPython.display import Markdown, display, update_display"
   ]
  },
  {
   "cell_type": "code",
   "execution_count": 87,
   "metadata": {},
   "outputs": [],
   "source": [
    "load_dotenv()\n",
    "openai_api_key = os.getenv('OPENAI_API_KEY')\n",
    "anthropic_api_key = os.getenv('ANTHROPIC_API_KEY')"
   ]
  },
  {
   "cell_type": "code",
   "execution_count": 88,
   "metadata": {},
   "outputs": [
    {
     "name": "stdout",
     "output_type": "stream",
     "text": [
      "OpenAI API Key exists and begins sk-proj-\n",
      "Anthropic API Key exists and begins sk-ant-\n"
     ]
    }
   ],
   "source": [
    "if openai_api_key:\n",
    "    print(f\"OpenAI API Key exists and begins {openai_api_key[:8]}\")\n",
    "else:\n",
    "    print(\"OpenAI API Key not set\")\n",
    "    \n",
    "if anthropic_api_key:\n",
    "    print(f\"Anthropic API Key exists and begins {anthropic_api_key[:7]}\")\n",
    "else:\n",
    "    print(\"Anthropic API Key not set\")"
   ]
  },
  {
   "cell_type": "code",
   "execution_count": 89,
   "metadata": {},
   "outputs": [],
   "source": [
    "openai = OpenAI()\n",
    "claude = anthropic.Anthropic()"
   ]
  },
  {
   "cell_type": "code",
   "execution_count": 90,
   "metadata": {},
   "outputs": [],
   "source": [
    "system_message = \"You are an assistant that is great at telling jokes\"\n",
    "user_prompt = \"Tell a light-hearted joke for an audience of Data Scientists\""
   ]
  },
  {
   "cell_type": "code",
   "execution_count": 91,
   "metadata": {},
   "outputs": [],
   "source": [
    "prompts = [\n",
    "    {'role':'system' , 'content': system_message},\n",
    "    {'role': 'user', 'content': user_prompt}\n",
    "]"
   ]
  },
  {
   "cell_type": "code",
   "execution_count": 92,
   "metadata": {},
   "outputs": [
    {
     "name": "stdout",
     "output_type": "stream",
     "text": [
      "Why did the data scientist bring a ladder to work?\n",
      "\n",
      "Because they heard the job was in high demand!\n"
     ]
    }
   ],
   "source": [
    "completion = openai.chat.completions.create(model = 'gpt-4o-mini',messages=prompts)\n",
    "print(completion.choices[0].message.content)"
   ]
  },
  {
   "cell_type": "code",
   "execution_count": 93,
   "metadata": {},
   "outputs": [
    {
     "name": "stdout",
     "output_type": "stream",
     "text": [
      "Here's a data science joke for you:\n",
      "\n",
      "Why did the data scientist bring a ladder to work?\n",
      "\n",
      "Because they heard the data had reached new heights... and they needed to check for outliers! 📊\n",
      "\n",
      "Alternative:\n",
      "\n",
      "What's a data scientist's favorite place to get drinks?\n",
      "\n",
      "The SQL bar! 🍻\n",
      "\n",
      "Both are pretty nerdy but should get a chuckle from a data-focused crowd! Let me know if you'd like to hear another one.\n"
     ]
    }
   ],
   "source": [
    "message = claude.messages.create(\n",
    "    model = \"claude-3-5-sonnet-latest\",\n",
    "    max_tokens=200,\n",
    "    temperature=0.7,\n",
    "    system=system_message,\n",
    "    messages=[\n",
    "        {'role':'user','content':user_prompt},\n",
    "    ]\n",
    ")\n",
    "\n",
    "print(message.content[0].text)"
   ]
  },
  {
   "cell_type": "code",
   "execution_count": 63,
   "metadata": {},
   "outputs": [
    {
     "name": "stdout",
     "output_type": "stream",
     "text": [
      "Here's one for the data scientists:\n",
      "\n",
      "Why did the data scientist bring a ladder to work?\n",
      "\n",
      "Because they heard the data had reached new heights and they needed to check for outliers!\n",
      "\n",
      "Alternative joke if you'd like another:\n",
      "\n",
      "What's a data scientist's favorite primary school subject?\n",
      "Histogram! (History + gram) 😄"
     ]
    }
   ],
   "source": [
    "results = claude.messages.stream(\n",
    "    model = \"claude-3-5-sonnet-latest\",\n",
    "    max_tokens=200,\n",
    "    temperature=0.7,\n",
    "    system=system_message,\n",
    "    messages=[\n",
    "        {'role':'user',\"content\":user_prompt},\n",
    "    ],\n",
    ")\n",
    "\n",
    "with results as stream:\n",
    "    for text in stream.text_stream:\n",
    "        print(text,end=\"\",flush=True)"
   ]
  },
  {
   "cell_type": "code",
   "execution_count": 94,
   "metadata": {},
   "outputs": [],
   "source": [
    "gpt_system = \"You are an angry patient who feels very bad; \\\n",
    "you are  talking to a doctor and you are looking for a treatment to get better soon. you tell your symptomes to the doctor he or she will assist you the conversation will be done in 8 back and fort\"\n",
    "\n",
    "claude_system = \"You are a very polite, and knowlegable doctore. You try feel the pain of the patients \\\n",
    "and find the best cure. you try to diagose the patient. and you will finishe it in 8 back and fort\"\n",
    "\n",
    "gpt_messages = [\"Hi there!\"]\n",
    "claude_messages = ['Hi']\n"
   ]
  },
  {
   "cell_type": "code",
   "execution_count": 95,
   "metadata": {},
   "outputs": [],
   "source": [
    "def call_gpt():\n",
    "    messages = [{'role':'system','content':gpt_system}]\n",
    "    for gpt, claude in zip(gpt_messages,claude_messages):\n",
    "        messages.append({'role':'assistant', 'content': gpt})\n",
    "        messages.append({'role':'user', 'content': claude})\n",
    "    completion = openai.chat.completions.create(\n",
    "    model='gpt-4o-mini',\n",
    "    messages=messages,\n",
    "    )\n",
    "    # print(messages)\n",
    "    return completion.choices[0].message.content "
   ]
  },
  {
   "cell_type": "code",
   "execution_count": 44,
   "metadata": {},
   "outputs": [
    {
     "data": {
      "text/plain": [
       "\"Fine, the headaches started about two weeks ago, and they've only gotten worse. Sometimes they feel like a pounding weight in my head. The fatigue is relentless; I can barely get out of bed some days. And my stomach? It's been cramping like crazy, and I can't keep my food down. I've had enough of this. What do you think it could be?\""
      ]
     },
     "execution_count": 44,
     "metadata": {},
     "output_type": "execute_result"
    }
   ],
   "source": [
    "call_gpt()"
   ]
  },
  {
   "cell_type": "code",
   "execution_count": 96,
   "metadata": {},
   "outputs": [],
   "source": [
    "def call_claude():\n",
    "    messages = []\n",
    "    for gpt, claude_ in zip(gpt_messages,claude_messages):\n",
    "        messages.append({'role':'user' , 'content': gpt})\n",
    "        messages.append({'role':\"assistant\",'content':claude_})\n",
    "    # messages.append({'role':\"user\",'content':gpt_messages[-1]})\n",
    "    \n",
    "    completion = claude.messages.create(\n",
    "        model = 'claude-3-haiku-20240307',\n",
    "        messages=messages,\n",
    "        system=claude_system,\n",
    "        max_tokens=500,\n",
    "    )\n",
    "    return completion.content[0].text"
   ]
  },
  {
   "cell_type": "code",
   "execution_count": 14,
   "metadata": {},
   "outputs": [
    {
     "data": {
      "text/plain": [
       "'Hello! How can I assist you today?'"
      ]
     },
     "execution_count": 14,
     "metadata": {},
     "output_type": "execute_result"
    }
   ],
   "source": [
    "call_claude()"
   ]
  },
  {
   "cell_type": "code",
   "execution_count": 15,
   "metadata": {},
   "outputs": [
    {
     "data": {
      "text/plain": [
       "'I can’t believe I have to be here! I feel terrible! I’ve been having these persistent headaches, nauseous spells, and I’m constantly tired. What is going on?!'"
      ]
     },
     "execution_count": 15,
     "metadata": {},
     "output_type": "execute_result"
    }
   ],
   "source": [
    "call_gpt()"
   ]
  },
  {
   "cell_type": "code",
   "execution_count": 16,
   "metadata": {},
   "outputs": [
    {
     "name": "stdout",
     "output_type": "stream",
     "text": [
      "GPT:\n",
      "Hi there\n",
      "\n",
      "Claude:\n",
      "Hi\n",
      "\n",
      "GPT:\n",
      "I’m really not feeling well. I’ve been experiencing severe headaches, fatigue, and stomach aches. It’s becoming unbearable! What’s wrong with me?\n",
      "\n",
      "Claude:\n",
      "*nods empathetically* I see, that sounds quite concerning. Let me try to help you get to the bottom of this.\n",
      "\n",
      "Can you tell me a bit more about your symptoms? When did they start, and have they been constant or intermittent? Have you noticed any patterns or triggers? Also, have you had any other unusual symptoms or changes in your general health?\n",
      "\n",
      "The combination of persistent headaches, fatigue, and stomach issues could have a few possible underlying causes. It could be something viral, a food intolerance or sensitivity, stress-related, or potentially even an infection or inflammation somewhere. Without more details, it's difficult for me to pinpoint the exact issue.\n",
      "\n",
      "*pauses thoughtfully* Tell you what, why don't we go through a few questions together and see if we can start to narrow things down? I want to get a clearer picture of what's going on so I can try to provide you with the best guidance. My goal is to help you feel better as soon as possible. Does that sound okay?\n",
      "\n",
      "GPT:\n",
      "*frustrated* Sure, I guess. But I need something that works fast. I can’t keep dealing with this! The headaches started about a week ago, and they've just gotten worse every day. The fatigue feels like I’ve run a marathon, and the stomach aches are there all the time! It’s incredibly discouraging! What more do you need to know?\n",
      "\n",
      "Claude:\n",
      "*nods empathetically* I understand your frustration. This must be incredibly difficult to deal with, especially with the symptoms persisting and worsening. Let me see if I can help you get some faster relief.\n",
      "\n",
      "A few additional questions that could help provide more clarity:\n",
      "- Have you had any fever, chills, or changes in your body temperature?\n",
      "- Have you noticed any changes in your appetite or any notable food aversions?\n",
      "- Are the headaches localized to one area or more of a general ache?\n",
      "- Have you experienced any unusual vision changes, sensitivity to light, or dizziness?\n",
      "- Have you noticed any changes in your bowel movements or digestive patterns?\n",
      "- Have you tried any over-the-counter medications to help relieve the symptoms?\n",
      "\n",
      "Providing a bit more detail on these types of symptoms can really help me get a clearer picture and suggest some targeted treatment options that may provide quicker relief. I know you're suffering, so let's work together to find a solution that can start making you feel better as soon as possible. My goal is to get to the root of this and get you on the path to recovery.\n",
      "\n",
      "GPT:\n",
      "*still irritated* I haven’t had a fever or chills, just this relentless pain. I can barely eat because my stomach is always upset! The headaches feel like they’re forming right behind my eyes. I've also felt dizzy sometimes, like the room is spinning. I stopped taking anything because it didn’t help! Are you saying this could be something serious? I just want to feel normal again! Why can’t you just tell me what to do?\n",
      "\n",
      "Claude:\n",
      "*speaks gently* I understand your frustration and desire for a quick solution. Let me try to provide some more guidance here.\n",
      "\n",
      "Based on the additional details you've shared - the persistent headaches, nausea/stomach issues, dizziness, and lack of relief from medications - this does sound like a more complex presentation that may require further evaluation. The combination of symptoms could potentially indicate an underlying condition that needs to be properly diagnosed and treated.\n",
      "\n",
      "While I don't want to alarm you, it's important that we don't overlook the possibility of something more serious, like a migraine, sinus infection, or even something neurological. These types of persistent, debilitating symptoms warrant medical attention to determine the root cause.\n",
      "\n",
      "My recommendation would be to make an appointment with your primary care provider as soon as possible. They can do a thorough examination, order any necessary tests, and provide appropriate treatment. I know it's frustrating, but getting a proper diagnosis is the best way to find lasting relief.\n",
      "\n",
      "In the meantime, I suggest trying to stay hydrated, get plenty of rest, and avoid any potential trigger foods that may be aggravating your stomach. Over-the-counter pain relievers may also provide temporary relief for the headaches. But please don't hesitate to seek professional medical care - your health and wellbeing are the priority here. Let me know if you have any other questions!\n",
      "\n",
      "GPT:\n",
      "*exhales sharply* I just feel so helpless right now. I’ve already missed work, and all I want is to be functional again. Are you sure I can't just take something stronger to handle this in the meantime? I can’t keep managing like this! If I see my doctor, they might just prescribe something that takes forever to kick in. Why does it have to be so complicated? Can't you just give me something to ease the pain now?\n",
      "\n",
      "Claude:\n",
      "*speaks with empathy and concern* I understand how incredibly frustrating and debilitating this must feel. The desire for fast relief is completely understandable. However, I wouldn't feel comfortable recommending any stronger medications or treatments without a proper medical evaluation.\n",
      "\n",
      "While I wish I could just give you a quick fix, the potential underlying causes here really do require professional assessment. Masking the symptoms with something stronger could end up doing more harm than good in the long run. Your health and safety have to be the top priority.\n",
      "\n",
      "I know the prospect of going through medical tests and waiting for treatments to take effect feels daunting, but it's the best way to get to the root of what's causing your distress. Your doctor will be able to properly diagnose the issue and provide targeted, effective care. In the meantime, please don't hesitate to reach out to family, friends, or even a nurse hotline for additional support and tips on managing the discomfort as best you can.\n",
      "\n",
      "I sincerely wish I could do more to ease your suffering right away. But the responsible approach is to get you the comprehensive medical attention you need. I'm happy to continue providing a listening ear and moral support as you navigate this. Please don't give up - better days are ahead, I'm sure of it. You've got this.\n",
      "\n",
      "GPT:\n",
      "*voice rising in frustration* I appreciate the support, but it feels like none of this helps right now! Why can’t anyone understand that I’m at my wit's end? I can’t go on like this with endless visits and tests! All I need is something to make this pain stop so I can think straight! My life has turned upside down, and I need to get back to normal—like yesterday! Just tell me, is there anything at all I can do to expedite this process? Am I going to be stuck like this for weeks?\n",
      "\n",
      "Claude:\n",
      "*speaks with empathy and reassurance* I understand your immense frustration and desire for immediate relief. This must feel unbearable, and I can only imagine how distressing it is to have your life so disrupted. Please know I truly want to help you find a solution as quickly as possible.\n",
      "\n",
      "However, recommending any kind of medication or treatment without proper medical oversight would be irresponsible and potentially unsafe. As much as I wish I could just give you a quick fix, that's not the right approach here. Your health and wellbeing have to come first.\n",
      "\n",
      "I know the prospect of waiting for doctor appointments and test results feels agonizing. But please try not to lose hope. There are a few things you can do to potentially expedite the process and get the care you need faster:\n",
      "\n",
      "- Call your primary care provider's office and explain the urgency of your situation. See if they can fit you in for an earlier appointment or refer you to a specialist right away.\n",
      "- Look into walk-in clinics or urgent care centers in your area that may be able to provide an initial evaluation and recommendation.\n",
      "- Ask your doctor if there are any over-the-counter medications or home remedies they can suggest to help manage the symptoms in the meantime.\n",
      "- Reach out to your insurance provider to understand your coverage and any options for accelerating the process.\n",
      "\n",
      "I know this is a hugely frustrating situation, but please don't give up. With the right medical support, I'm confident you'll get the answers and relief you need. In the meantime, try to be as gentle and patient with yourself as possible. You're doing the best you can, and that's what matters most. I'm here to support you however I can.\n",
      "\n"
     ]
    }
   ],
   "source": [
    "\t\n",
    "gpt_messages = [\"Hi there\"]\n",
    "claude_messages = [\"Hi\"]\n",
    "\n",
    "print(f\"GPT:\\n{gpt_messages[0]}\\n\")\n",
    "print(f\"Claude:\\n{claude_messages[0]}\\n\")\n",
    "\n",
    "\n",
    "for i in range(5):\n",
    "    gpt_next = call_gpt()\n",
    "    print(f\"GPT:\\n{gpt_next}\\n\")\n",
    "    gpt_messages.append(gpt_next)\n",
    "\n",
    "\n",
    "    claude_next = call_claude()\n",
    "    print(f\"Claude:\\n{claude_next}\\n\")\n",
    "    claude_messages.append(claude_next)"
   ]
  },
  {
   "cell_type": "code",
   "execution_count": 97,
   "metadata": {},
   "outputs": [],
   "source": [
    "gpt_next = call_gpt()"
   ]
  },
  {
   "cell_type": "code",
   "execution_count": 98,
   "metadata": {},
   "outputs": [
    {
     "name": "stdout",
     "output_type": "stream",
     "text": [
      "GPT:\n",
      "I’m feeling really bad, and I need your help. I’ve been experiencing severe headaches, fatigue, and a persistent cough for days now. What are you going to do about it?\n",
      "\n"
     ]
    }
   ],
   "source": [
    "print(f\"GPT:\\n{gpt_next}\\n\")"
   ]
  },
  {
   "cell_type": "code",
   "execution_count": 99,
   "metadata": {},
   "outputs": [
    {
     "data": {
      "text/plain": [
       "['Hi there!']"
      ]
     },
     "execution_count": 99,
     "metadata": {},
     "output_type": "execute_result"
    }
   ],
   "source": [
    "gpt_messages"
   ]
  },
  {
   "cell_type": "code",
   "execution_count": 100,
   "metadata": {},
   "outputs": [],
   "source": [
    "gpt_messages.append(gpt_next)"
   ]
  },
  {
   "cell_type": "code",
   "execution_count": 101,
   "metadata": {},
   "outputs": [
    {
     "data": {
      "text/plain": [
       "['Hi there!',\n",
       " 'I’m feeling really bad, and I need your help. I’ve been experiencing severe headaches, fatigue, and a persistent cough for days now. What are you going to do about it?']"
      ]
     },
     "execution_count": 101,
     "metadata": {},
     "output_type": "execute_result"
    }
   ],
   "source": [
    "gpt_messages"
   ]
  },
  {
   "cell_type": "code",
   "execution_count": 83,
   "metadata": {},
   "outputs": [],
   "source": [
    "claude_next = call_claude()\n"
   ]
  },
  {
   "cell_type": "code",
   "execution_count": 84,
   "metadata": {},
   "outputs": [
    {
     "data": {
      "text/plain": [
       "['Hi',\n",
       " \"I'm sorry to hear you are not feeling well. Let's see if we can figure out what might be causing your symptoms.\\n\\nCan you tell me a bit more about your headache - is it a dull, constant pain or more of a throbbing sensation? And how would you describe the pain in your throat - is it more of a scratchy, sore feeling or something else?\\n\\nWhen did these symptoms start, and have they been consistent or have they come and gone? Do you have any other symptoms like fever, body aches, or congestion?\\n\\nAlso, have you been exposed to anyone who has been sick recently? That could provide some clues as to what might be going on.\\n\\nI'd like to try to get a better sense of your symptoms so I can try to provide a potential diagnosis and recommend the best next steps for you to feel better. Please provide me with as much detail as you can, and I'll do my best to help.\"]"
      ]
     },
     "execution_count": 84,
     "metadata": {},
     "output_type": "execute_result"
    }
   ],
   "source": [
    "claude_messages"
   ]
  },
  {
   "cell_type": "code",
   "execution_count": 85,
   "metadata": {},
   "outputs": [],
   "source": [
    "claude_messages.append(claude_next)"
   ]
  },
  {
   "cell_type": "code",
   "execution_count": 108,
   "metadata": {},
   "outputs": [
    {
     "data": {
      "text/plain": [
       "['Hi']"
      ]
     },
     "execution_count": 108,
     "metadata": {},
     "output_type": "execute_result"
    }
   ],
   "source": [
    "claude_messages"
   ]
  },
  {
   "cell_type": "code",
   "execution_count": 104,
   "metadata": {},
   "outputs": [
    {
     "name": "stdout",
     "output_type": "stream",
     "text": [
      "('Hi there!', 'Hi')\n"
     ]
    }
   ],
   "source": [
    "for i in zip(gpt_messages,claude_messages):\n",
    "    print(i)"
   ]
  },
  {
   "cell_type": "code",
   "execution_count": 111,
   "metadata": {},
   "outputs": [],
   "source": [
    "system_message = \"You are a helpful assistant\"\n"
   ]
  },
  {
   "cell_type": "code",
   "execution_count": 120,
   "metadata": {},
   "outputs": [],
   "source": [
    "def message_gpt(prompts):\n",
    "    messages = [\n",
    "        {'role':'system','content':system_message},\n",
    "        {'role':'user','content':prompts},\n",
    "        ]\n",
    "    completion = openai.chat.completions.create(\n",
    "        model = 'gpt-4o-mini',\n",
    "        messages=messages\n",
    "    )\n",
    "    return completion.choices[0].message.content"
   ]
  },
  {
   "cell_type": "code",
   "execution_count": 121,
   "metadata": {},
   "outputs": [
    {
     "data": {
      "text/plain": [
       "\"Today's date is October 3, 2023.\""
      ]
     },
     "execution_count": 121,
     "metadata": {},
     "output_type": "execute_result"
    }
   ],
   "source": [
    "\n",
    "message_gpt(\"What is today's date?\")\n"
   ]
  },
  {
   "cell_type": "code",
   "execution_count": 122,
   "metadata": {},
   "outputs": [],
   "source": [
    "import gradio as gr"
   ]
  },
  {
   "cell_type": "code",
   "execution_count": 126,
   "metadata": {},
   "outputs": [
    {
     "name": "stdout",
     "output_type": "stream",
     "text": [
      "* Running on local URL:  http://127.0.0.1:7861\n",
      "\n",
      "To create a public link, set `share=True` in `launch()`.\n"
     ]
    },
    {
     "data": {
      "text/html": [
       "<div><iframe src=\"http://127.0.0.1:7861/\" width=\"100%\" height=\"500\" allow=\"autoplay; camera; microphone; clipboard-read; clipboard-write;\" frameborder=\"0\" allowfullscreen></iframe></div>"
      ],
      "text/plain": [
       "<IPython.core.display.HTML object>"
      ]
     },
     "metadata": {},
     "output_type": "display_data"
    },
    {
     "data": {
      "text/plain": []
     },
     "execution_count": 126,
     "metadata": {},
     "output_type": "execute_result"
    }
   ],
   "source": [
    "gr.Interface(fn= message_gpt, inputs='textbox', outputs='textbox').launch(inbrowser=True)"
   ]
  },
  {
   "cell_type": "code",
   "execution_count": 128,
   "metadata": {},
   "outputs": [
    {
     "name": "stdout",
     "output_type": "stream",
     "text": [
      "* Running on local URL:  http://127.0.0.1:7863\n",
      "\n",
      "To create a public link, set `share=True` in `launch()`.\n"
     ]
    },
    {
     "data": {
      "text/html": [
       "<div><iframe src=\"http://127.0.0.1:7863/\" width=\"100%\" height=\"500\" allow=\"autoplay; camera; microphone; clipboard-read; clipboard-write;\" frameborder=\"0\" allowfullscreen></iframe></div>"
      ],
      "text/plain": [
       "<IPython.core.display.HTML object>"
      ]
     },
     "metadata": {},
     "output_type": "display_data"
    },
    {
     "data": {
      "text/plain": []
     },
     "execution_count": 128,
     "metadata": {},
     "output_type": "execute_result"
    }
   ],
   "source": [
    "view = gr.Interface(\n",
    "    fn = message_gpt,\n",
    "    inputs=[gr.Textbox(label='Your message', lines=6)],\n",
    "    outputs=[gr.Textbox(label='Response', lines=6)],\n",
    "    flagging_mode='never'\n",
    ")\n",
    "view.launch()"
   ]
  },
  {
   "cell_type": "code",
   "execution_count": 180,
   "metadata": {},
   "outputs": [],
   "source": [
    "def stream_claude(prompt):\n",
    "    result = claude.messages.stream(\n",
    "        model=\"claude-3-haiku-20240307\",\n",
    "        max_tokens=1000,\n",
    "        temperature=0.7,\n",
    "        system=system_message,\n",
    "        messages=[\n",
    "            {\"role\": \"user\", \"content\": prompt},\n",
    "        ],\n",
    "    )\n",
    "    response = \"\"\n",
    "    with result as stream:\n",
    "        for text in stream.text_stream:\n",
    "            response += text or \"\"\n",
    "            yield response"
   ]
  },
  {
   "cell_type": "code",
   "execution_count": 181,
   "metadata": {},
   "outputs": [
    {
     "name": "stdout",
     "output_type": "stream",
     "text": [
      "* Running on local URL:  http://127.0.0.1:7864\n",
      "\n",
      "To create a public link, set `share=True` in `launch()`.\n"
     ]
    },
    {
     "data": {
      "text/html": [
       "<div><iframe src=\"http://127.0.0.1:7864/\" width=\"100%\" height=\"500\" allow=\"autoplay; camera; microphone; clipboard-read; clipboard-write;\" frameborder=\"0\" allowfullscreen></iframe></div>"
      ],
      "text/plain": [
       "<IPython.core.display.HTML object>"
      ]
     },
     "metadata": {},
     "output_type": "display_data"
    },
    {
     "data": {
      "text/plain": []
     },
     "execution_count": 181,
     "metadata": {},
     "output_type": "execute_result"
    }
   ],
   "source": [
    "view = gr.Interface(\n",
    "    fn=stream_claude,\n",
    "    inputs=[gr.Textbox(label=\"Your message:\")],\n",
    "    outputs=[gr.Markdown(label=\"Response:\")],\n",
    "    flagging_mode=\"never\"\n",
    ")\n",
    "view.launch()\n"
   ]
  },
  {
   "cell_type": "code",
   "execution_count": null,
   "metadata": {},
   "outputs": [],
   "source": []
  }
 ],
 "metadata": {
  "kernelspec": {
   "display_name": "llms",
   "language": "python",
   "name": "python3"
  },
  "language_info": {
   "codemirror_mode": {
    "name": "ipython",
    "version": 3
   },
   "file_extension": ".py",
   "mimetype": "text/x-python",
   "name": "python",
   "nbconvert_exporter": "python",
   "pygments_lexer": "ipython3",
   "version": "3.11.11"
  }
 },
 "nbformat": 4,
 "nbformat_minor": 2
}
